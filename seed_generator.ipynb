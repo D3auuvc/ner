{
 "cells": [
  {
   "cell_type": "code",
   "execution_count": 14,
   "metadata": {},
   "outputs": [
    {
     "name": "stdout",
     "output_type": "stream",
     "text": [
      "1024\n",
      "5436\n",
      "9470\n",
      "6730\n",
      "5974\n",
      "6523\n",
      "6891\n",
      "3552\n",
      "7849\n",
      "5490\n",
      "5225\n"
     ]
    }
   ],
   "source": [
    "# import module\n",
    "import random\n",
    "import datetime\n",
    "\n",
    "for i in range(0, 11):\n",
    "    ct = datetime.datetime.now()\n",
    "    random.seed(a=ct.timestamp(),version=2)\n",
    "    print(int(random.random()*10000))"
   ]
  }
 ],
 "metadata": {
  "interpreter": {
   "hash": "916dbcbb3f70747c44a77c7bcd40155683ae19c65e1c03b4aa3499c5328201f1"
  },
  "kernelspec": {
   "display_name": "Python 3.8.10 64-bit",
   "language": "python",
   "name": "python3"
  },
  "language_info": {
   "codemirror_mode": {
    "name": "ipython",
    "version": 3
   },
   "file_extension": ".py",
   "mimetype": "text/x-python",
   "name": "python",
   "nbconvert_exporter": "python",
   "pygments_lexer": "ipython3",
   "version": "3.8.10"
  },
  "orig_nbformat": 4
 },
 "nbformat": 4,
 "nbformat_minor": 2
}
