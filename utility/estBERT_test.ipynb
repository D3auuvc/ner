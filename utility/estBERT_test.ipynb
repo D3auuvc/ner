{
 "cells": [
  {
   "cell_type": "code",
   "execution_count": 6,
   "metadata": {},
   "outputs": [],
   "source": [
    "from transformers import AutoTokenizer, AutoModelForMaskedLM\n",
    "\n",
    "_NEW_MODEL = r'tartuNLP/new_EstBERT'\n",
    "_OLD_MODEL = r'tartuNLP/EstBERT'"
   ]
  },
  {
   "cell_type": "code",
   "execution_count": 7,
   "metadata": {},
   "outputs": [
    {
     "name": "stderr",
     "output_type": "stream",
     "text": [
      "Some weights of the model checkpoint at tartuNLP/new_EstBERT were not used when initializing BertForMaskedLM: ['classifier.weight', 'classifier.bias']\n",
      "- This IS expected if you are initializing BertForMaskedLM from the checkpoint of a model trained on another task or with another architecture (e.g. initializing a BertForSequenceClassification model from a BertForPreTraining model).\n",
      "- This IS NOT expected if you are initializing BertForMaskedLM from the checkpoint of a model that you expect to be exactly identical (initializing a BertForSequenceClassification model from a BertForSequenceClassification model).\n",
      "Some weights of BertForMaskedLM were not initialized from the model checkpoint at tartuNLP/new_EstBERT and are newly initialized: ['cls.predictions.transform.dense.bias', 'cls.predictions.transform.dense.weight', 'cls.predictions.decoder.weight', 'cls.predictions.bias', 'cls.predictions.transform.LayerNorm.weight', 'cls.predictions.transform.LayerNorm.bias']\n",
      "You should probably TRAIN this model on a down-stream task to be able to use it for predictions and inference.\n"
     ]
    }
   ],
   "source": [
    "new_tokenizer = AutoTokenizer.from_pretrained(_NEW_MODEL);\n",
    "new_model = AutoModelForMaskedLM.from_pretrained(_NEW_MODEL);"
   ]
  },
  {
   "cell_type": "code",
   "execution_count": 8,
   "metadata": {},
   "outputs": [],
   "source": [
    "old_tokenizer = AutoTokenizer.from_pretrained(_OLD_MODEL);\n",
    "old_model = AutoModelForMaskedLM.from_pretrained(_OLD_MODEL);"
   ]
  },
  {
   "cell_type": "code",
   "execution_count": 14,
   "metadata": {},
   "outputs": [
    {
     "name": "stdout",
     "output_type": "stream",
     "text": [
      "MaskedLMOutput(loss=None, logits=tensor([[[ -7.7364,   0.5193,  -5.3980,  ...,  -3.1982,  -7.0803,  -6.6222],\n",
      "         [ -3.4890,   5.6149,  -6.2309,  ...,  -3.3955,  -3.1461,  -3.9186],\n",
      "         [ -7.8077,  -1.7479,  -9.3750,  ...,  -2.4906,  -6.7527,  -5.4782],\n",
      "         ...,\n",
      "         [-10.0112,  -1.2545, -12.7752,  ...,  -6.5111, -11.0834, -10.9893],\n",
      "         [ -9.6444,  -2.1491,  -9.2349,  ...,  -3.7336,  -8.4136,  -8.7881],\n",
      "         [ -5.6354,   1.6591,  -8.1131,  ...,  -2.2591,  -5.3788,  -4.9288]]],\n",
      "       grad_fn=<AddBackward0>), hidden_states=None, attentions=None)\n",
      "MaskedLMOutput(loss=None, logits=tensor([[[ 0.1302,  0.4569, -1.7351,  ...,  0.6965,  1.4558,  0.5729],\n",
      "         [-0.0977, -0.2181, -2.0143,  ...,  0.9301,  0.6838, -0.2873],\n",
      "         [-0.6269,  0.9614, -4.0110,  ...,  0.1841,  0.4152, -0.0303],\n",
      "         ...,\n",
      "         [-0.9967,  1.2972, -1.8939,  ..., -0.5139, -0.5384, -0.2348],\n",
      "         [-0.6551,  0.5644, -2.2667,  ...,  0.8027,  0.3575, -0.0735],\n",
      "         [-0.6543,  0.5958, -2.1896,  ...,  0.8073,  0.3593, -0.0587]]],\n",
      "       grad_fn=<AddBackward0>), hidden_states=None, attentions=None)\n"
     ]
    }
   ],
   "source": [
    "text = 'Over the garden the moon’s tide tumbles.\\\n",
    "Shrubs are shaken by gusts and tremblings.\\\n",
    "Pathways ribbon with sudden dissemblings\\\n",
    "Towards the threshold where false foot stumbles.\\\n",
    "Out of the soil of midnight, tender,\\\n",
    "Lift my arms’ white tendrils and, weaving,\\\n",
    "Motion to someone shadowy and absent,\\\n",
    "Someone who tarries somewhere, perhaps may not be existent.'\n",
    "\n",
    "old_model_inputs = old_tokenizer(text, return_tensors=\"pt\")\n",
    "old_model_outputs = old_model(**old_model_inputs)\n",
    "\n",
    "new_model_inputs = new_tokenizer(text, return_tensors=\"pt\")\n",
    "new_model_outputs = new_model(**new_model_inputs)\n",
    "\n",
    "print((old_model_outputs))\n",
    "print(new_model_outputs)"
   ]
  }
 ],
 "metadata": {
  "interpreter": {
   "hash": "916dbcbb3f70747c44a77c7bcd40155683ae19c65e1c03b4aa3499c5328201f1"
  },
  "kernelspec": {
   "display_name": "Python 3.8.10 64-bit",
   "language": "python",
   "name": "python3"
  },
  "language_info": {
   "codemirror_mode": {
    "name": "ipython",
    "version": 3
   },
   "file_extension": ".py",
   "mimetype": "text/x-python",
   "name": "python",
   "nbconvert_exporter": "python",
   "pygments_lexer": "ipython3",
   "version": "3.8.10"
  },
  "orig_nbformat": 4
 },
 "nbformat": 4,
 "nbformat_minor": 2
}
